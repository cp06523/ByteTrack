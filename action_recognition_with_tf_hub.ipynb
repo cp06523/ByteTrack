{
  "cells": [
    {
      "cell_type": "markdown",
      "metadata": {
        "id": "x8Q7Un821X1A"
      },
      "source": [
        "##### Copyright 2018 The TensorFlow Hub Authors.\n",
        "\n",
        "Licensed under the Apache License, Version 2.0 (the \"License\");"
      ]
    },
    {
      "cell_type": "code",
      "execution_count": null,
      "metadata": {
        "id": "1W4rIAFt1Ui3"
      },
      "outputs": [],
      "source": [
        "# Copyright 2018 The TensorFlow Hub Authors. All Rights Reserved.\n",
        "#\n",
        "# Licensed under the Apache License, Version 2.0 (the \"License\");\n",
        "# you may not use this file except in compliance with the License.\n",
        "# You may obtain a copy of the License at\n",
        "#\n",
        "#     http://www.apache.org/licenses/LICENSE-2.0\n",
        "#\n",
        "# Unless required by applicable law or agreed to in writing, software\n",
        "# distributed under the License is distributed on an \"AS IS\" BASIS,\n",
        "# WITHOUT WARRANTIES OR CONDITIONS OF ANY KIND, either express or implied.\n",
        "# See the License for the specific language governing permissions and\n",
        "# limitations under the License.\n",
        "# =============================================================================="
      ]
    },
    {
      "cell_type": "markdown",
      "metadata": {
        "id": "cDq0CIKc1vO_"
      },
      "source": [
        "# Action Recognition with an Inflated 3D CNN\n"
      ]
    },
    {
      "cell_type": "markdown",
      "metadata": {
        "id": "MfBg1C5NB3X0"
      },
      "source": [
        "<table class=\"tfo-notebook-buttons\" align=\"left\">\n",
        "  <td>\n",
        "    <a target=\"_blank\" href=\"https://www.tensorflow.org/hub/tutorials/action_recognition_with_tf_hub\"><img src=\"https://www.tensorflow.org/images/tf_logo_32px.png\" />View on TensorFlow.org</a>\n",
        "  </td>\n",
        "  <td>\n",
        "    <a target=\"_blank\" href=\"https://colab.research.google.com/github/tensorflow/docs/blob/master/site/en/hub/tutorials/action_recognition_with_tf_hub.ipynb\"><img src=\"https://www.tensorflow.org/images/colab_logo_32px.png\" />Run in Google Colab</a>\n",
        "  </td>\n",
        "  <td>\n",
        "    <a target=\"_blank\" href=\"https://github.com/tensorflow/docs/blob/master/site/en/hub/tutorials/action_recognition_with_tf_hub.ipynb\"><img src=\"https://www.tensorflow.org/images/GitHub-Mark-32px.png\" />View on GitHub</a>\n",
        "  </td>\n",
        "  <td>\n",
        "    <a href=\"https://storage.googleapis.com/tensorflow_docs/docs/site/en/hub/tutorials/action_recognition_with_tf_hub.ipynb\"><img src=\"https://www.tensorflow.org/images/download_logo_32px.png\" />Download notebook</a>\n",
        "  </td>\n",
        "  <td>\n",
        "    <a href=\"https://tfhub.dev/deepmind/i3d-kinetics-400/1\"><img src=\"https://www.tensorflow.org/images/hub_logo_32px.png\" />See TF Hub model</a>\n",
        "  </td>\n",
        "</table>"
      ]
    },
    {
      "cell_type": "markdown",
      "metadata": {
        "id": "h6W3FhoP3TxC"
      },
      "source": [
        "This Colab demonstrates recognizing actions in video data using the\n",
        "[tfhub.dev/deepmind/i3d-kinetics-400/1](https://tfhub.dev/deepmind/i3d-kinetics-400/1) module. More models to detect actions in videos can be found [here](https://tfhub.dev/s?module-type=video-classification).\n",
        "\n",
        "The underlying model is described in the paper \"[Quo Vadis, Action Recognition? A New\n",
        "Model and the Kinetics Dataset](https://arxiv.org/abs/1705.07750)\" by Joao\n",
        "Carreira and Andrew Zisserman. The paper was posted on arXiv in May 2017, and\n",
        "was published as a CVPR 2017 conference paper.\n",
        "The source code is publicly available on\n",
        "[github](https://github.com/deepmind/kinetics-i3d).\n",
        "\n",
        "\"Quo Vadis\" introduced a new architecture for video classification, the Inflated\n",
        "3D Convnet or I3D. This architecture achieved state-of-the-art results on the UCF101\n",
        "and HMDB51 datasets from fine-tuning these models. I3D models pre-trained on Kinetics\n",
        "also placed first in the CVPR 2017 [Charades challenge](http://vuchallenge.org/charades.html).\n",
        "\n",
        "The original module was trained on the [kinetics-400 dateset](https://www.deepmind.com/open-source/kinetics)\n",
        "and knows about 400 different actions.\n",
        "Labels for these actions can be found in the\n",
        "[label map file](https://github.com/deepmind/kinetics-i3d/blob/master/data/label_map.txt).\n",
        "\n",
        "In this Colab we will use it recognize activities in videos from a UCF101 dataset."
      ]
    },
    {
      "cell_type": "markdown",
      "metadata": {
        "id": "R_0xc2jyNGRp"
      },
      "source": [
        "## Setup"
      ]
    },
    {
      "cell_type": "code",
      "execution_count": 2,
      "metadata": {
        "id": "mOHMWsFnITdi",
        "outputId": "d9946050-a22f-4b62-bae7-0855d9a0ce0b",
        "colab": {
          "base_uri": "https://localhost:8080/"
        }
      },
      "outputs": [
        {
          "output_type": "stream",
          "name": "stdout",
          "text": [
            "  Preparing metadata (setup.py) ... \u001b[?25l\u001b[?25hdone\n",
            "  Building wheel for tensorflow-docs (setup.py) ... \u001b[?25l\u001b[?25hdone\n"
          ]
        }
      ],
      "source": [
        "!pip install -q imageio\n",
        "!pip install -q opencv-python\n",
        "!pip install -q git+https://github.com/tensorflow/docs"
      ]
    },
    {
      "cell_type": "code",
      "execution_count": 3,
      "metadata": {
        "id": "USf0UvkYIlKo"
      },
      "outputs": [],
      "source": [
        "#@title Import the necessary modules\n",
        "# TensorFlow and TF-Hub modules.\n",
        "from absl import logging\n",
        "\n",
        "import tensorflow as tf\n",
        "import tensorflow_hub as hub\n",
        "from tensorflow_docs.vis import embed\n",
        "\n",
        "logging.set_verbosity(logging.ERROR)\n",
        "\n",
        "# Some modules to help with reading the UCF101 dataset.\n",
        "import random\n",
        "import re\n",
        "import os\n",
        "import tempfile\n",
        "import ssl\n",
        "import cv2\n",
        "import numpy as np\n",
        "\n",
        "# Some modules to display an animation using imageio.\n",
        "import imageio\n",
        "from IPython import display\n",
        "\n",
        "from urllib import request  # requires python3"
      ]
    },
    {
      "cell_type": "code",
      "execution_count": 4,
      "metadata": {
        "id": "IuMMS3TGdws7"
      },
      "outputs": [],
      "source": [
        "#@title Helper functions for the UCF101 dataset\n",
        "\n",
        "# Utilities to fetch videos from UCF101 dataset\n",
        "UCF_ROOT = \"https://www.crcv.ucf.edu/THUMOS14/UCF101/UCF101/\"\n",
        "_VIDEO_LIST = None\n",
        "_CACHE_DIR = tempfile.mkdtemp()\n",
        "# As of July 2020, crcv.ucf.edu doesn't use a certificate accepted by the\n",
        "# default Colab environment anymore.\n",
        "unverified_context = ssl._create_unverified_context()\n",
        "\n",
        "def list_ucf_videos():\n",
        "  \"\"\"Lists videos available in UCF101 dataset.\"\"\"\n",
        "  global _VIDEO_LIST\n",
        "  if not _VIDEO_LIST:\n",
        "    index = request.urlopen(UCF_ROOT, context=unverified_context).read().decode(\"utf-8\")\n",
        "    videos = re.findall(\"(v_[\\w_]+\\.avi)\", index)\n",
        "    _VIDEO_LIST = sorted(set(videos))\n",
        "  return list(_VIDEO_LIST)\n",
        "\n",
        "def fetch_ucf_video(video):\n",
        "  \"\"\"Fetches a video and cache into local filesystem.\"\"\"\n",
        "  cache_path = os.path.join(_CACHE_DIR, video)\n",
        "  if not os.path.exists(cache_path):\n",
        "    urlpath = request.urljoin(UCF_ROOT, video)\n",
        "    print(\"Fetching %s => %s\" % (urlpath, cache_path))\n",
        "    data = request.urlopen(urlpath, context=unverified_context).read()\n",
        "    open(cache_path, \"wb\").write(data)\n",
        "  return cache_path\n",
        "\n",
        "# Utilities to open video files using CV2\n",
        "def crop_center_square(frame):\n",
        "  y, x = frame.shape[0:2]\n",
        "  min_dim = min(y, x)\n",
        "  start_x = (x // 2) - (min_dim // 2)\n",
        "  start_y = (y // 2) - (min_dim // 2)\n",
        "  return frame[start_y:start_y+min_dim,start_x:start_x+min_dim]\n",
        "\n",
        "def load_video(path, max_frames=0, resize=(224, 224)):\n",
        "  cap = cv2.VideoCapture(path)\n",
        "  frames = []\n",
        "  try:\n",
        "    while True:\n",
        "      ret, frame = cap.read()\n",
        "      if not ret:\n",
        "        break\n",
        "      frame = crop_center_square(frame)\n",
        "      frame = cv2.resize(frame, resize)\n",
        "      frame = frame[:, :, [2, 1, 0]]\n",
        "      frames.append(frame)\n",
        "\n",
        "      if len(frames) == max_frames:\n",
        "        break\n",
        "  finally:\n",
        "    cap.release()\n",
        "  return np.array(frames) / 255.0\n",
        "\n",
        "def to_gif(images):\n",
        "  converted_images = np.clip(images * 255, 0, 255).astype(np.uint8)\n",
        "  imageio.mimsave('./animation.gif', converted_images, duration=40)\n",
        "  return embed.embed_file('./animation.gif')"
      ]
    },
    {
      "cell_type": "code",
      "source": [
        "labels"
      ],
      "metadata": {
        "id": "GHQ0Wv7N52-g",
        "outputId": "df4dfb83-f816-4bfc-aa36-9b30112183d5",
        "colab": {
          "base_uri": "https://localhost:8080/"
        }
      },
      "execution_count": 6,
      "outputs": [
        {
          "output_type": "execute_result",
          "data": {
            "text/plain": [
              "['abseiling',\n",
              " 'air drumming',\n",
              " 'answering questions',\n",
              " 'applauding',\n",
              " 'applying cream',\n",
              " 'archery',\n",
              " 'arm wrestling',\n",
              " 'arranging flowers',\n",
              " 'assembling computer',\n",
              " 'auctioning',\n",
              " 'baby waking up',\n",
              " 'baking cookies',\n",
              " 'balloon blowing',\n",
              " 'bandaging',\n",
              " 'barbequing',\n",
              " 'bartending',\n",
              " 'beatboxing',\n",
              " 'bee keeping',\n",
              " 'belly dancing',\n",
              " 'bench pressing',\n",
              " 'bending back',\n",
              " 'bending metal',\n",
              " 'biking through snow',\n",
              " 'blasting sand',\n",
              " 'blowing glass',\n",
              " 'blowing leaves',\n",
              " 'blowing nose',\n",
              " 'blowing out candles',\n",
              " 'bobsledding',\n",
              " 'bookbinding',\n",
              " 'bouncing on trampoline',\n",
              " 'bowling',\n",
              " 'braiding hair',\n",
              " 'breading or breadcrumbing',\n",
              " 'breakdancing',\n",
              " 'brush painting',\n",
              " 'brushing hair',\n",
              " 'brushing teeth',\n",
              " 'building cabinet',\n",
              " 'building shed',\n",
              " 'bungee jumping',\n",
              " 'busking',\n",
              " 'canoeing or kayaking',\n",
              " 'capoeira',\n",
              " 'carrying baby',\n",
              " 'cartwheeling',\n",
              " 'carving pumpkin',\n",
              " 'catching fish',\n",
              " 'catching or throwing baseball',\n",
              " 'catching or throwing frisbee',\n",
              " 'catching or throwing softball',\n",
              " 'celebrating',\n",
              " 'changing oil',\n",
              " 'changing wheel',\n",
              " 'checking tires',\n",
              " 'cheerleading',\n",
              " 'chopping wood',\n",
              " 'clapping',\n",
              " 'clay pottery making',\n",
              " 'clean and jerk',\n",
              " 'cleaning floor',\n",
              " 'cleaning gutters',\n",
              " 'cleaning pool',\n",
              " 'cleaning shoes',\n",
              " 'cleaning toilet',\n",
              " 'cleaning windows',\n",
              " 'climbing a rope',\n",
              " 'climbing ladder',\n",
              " 'climbing tree',\n",
              " 'contact juggling',\n",
              " 'cooking chicken',\n",
              " 'cooking egg',\n",
              " 'cooking on campfire',\n",
              " 'cooking sausages',\n",
              " 'counting money',\n",
              " 'country line dancing',\n",
              " 'cracking neck',\n",
              " 'crawling baby',\n",
              " 'crossing river',\n",
              " 'crying',\n",
              " 'curling hair',\n",
              " 'cutting nails',\n",
              " 'cutting pineapple',\n",
              " 'cutting watermelon',\n",
              " 'dancing ballet',\n",
              " 'dancing charleston',\n",
              " 'dancing gangnam style',\n",
              " 'dancing macarena',\n",
              " 'deadlifting',\n",
              " 'decorating the christmas tree',\n",
              " 'digging',\n",
              " 'dining',\n",
              " 'disc golfing',\n",
              " 'diving cliff',\n",
              " 'dodgeball',\n",
              " 'doing aerobics',\n",
              " 'doing laundry',\n",
              " 'doing nails',\n",
              " 'drawing',\n",
              " 'dribbling basketball',\n",
              " 'drinking',\n",
              " 'drinking beer',\n",
              " 'drinking shots',\n",
              " 'driving car',\n",
              " 'driving tractor',\n",
              " 'drop kicking',\n",
              " 'drumming fingers',\n",
              " 'dunking basketball',\n",
              " 'dying hair',\n",
              " 'eating burger',\n",
              " 'eating cake',\n",
              " 'eating carrots',\n",
              " 'eating chips',\n",
              " 'eating doughnuts',\n",
              " 'eating hotdog',\n",
              " 'eating ice cream',\n",
              " 'eating spaghetti',\n",
              " 'eating watermelon',\n",
              " 'egg hunting',\n",
              " 'exercising arm',\n",
              " 'exercising with an exercise ball',\n",
              " 'extinguishing fire',\n",
              " 'faceplanting',\n",
              " 'feeding birds',\n",
              " 'feeding fish',\n",
              " 'feeding goats',\n",
              " 'filling eyebrows',\n",
              " 'finger snapping',\n",
              " 'fixing hair',\n",
              " 'flipping pancake',\n",
              " 'flying kite',\n",
              " 'folding clothes',\n",
              " 'folding napkins',\n",
              " 'folding paper',\n",
              " 'front raises',\n",
              " 'frying vegetables',\n",
              " 'garbage collecting',\n",
              " 'gargling',\n",
              " 'getting a haircut',\n",
              " 'getting a tattoo',\n",
              " 'giving or receiving award',\n",
              " 'golf chipping',\n",
              " 'golf driving',\n",
              " 'golf putting',\n",
              " 'grinding meat',\n",
              " 'grooming dog',\n",
              " 'grooming horse',\n",
              " 'gymnastics tumbling',\n",
              " 'hammer throw',\n",
              " 'headbanging',\n",
              " 'headbutting',\n",
              " 'high jump',\n",
              " 'high kick',\n",
              " 'hitting baseball',\n",
              " 'hockey stop',\n",
              " 'holding snake',\n",
              " 'hopscotch',\n",
              " 'hoverboarding',\n",
              " 'hugging',\n",
              " 'hula hooping',\n",
              " 'hurdling',\n",
              " 'hurling (sport)',\n",
              " 'ice climbing',\n",
              " 'ice fishing',\n",
              " 'ice skating',\n",
              " 'ironing',\n",
              " 'javelin throw',\n",
              " 'jetskiing',\n",
              " 'jogging',\n",
              " 'juggling balls',\n",
              " 'juggling fire',\n",
              " 'juggling soccer ball',\n",
              " 'jumping into pool',\n",
              " 'jumpstyle dancing',\n",
              " 'kicking field goal',\n",
              " 'kicking soccer ball',\n",
              " 'kissing',\n",
              " 'kitesurfing',\n",
              " 'knitting',\n",
              " 'krumping',\n",
              " 'laughing',\n",
              " 'laying bricks',\n",
              " 'long jump',\n",
              " 'lunge',\n",
              " 'making a cake',\n",
              " 'making a sandwich',\n",
              " 'making bed',\n",
              " 'making jewelry',\n",
              " 'making pizza',\n",
              " 'making snowman',\n",
              " 'making sushi',\n",
              " 'making tea',\n",
              " 'marching',\n",
              " 'massaging back',\n",
              " 'massaging feet',\n",
              " 'massaging legs',\n",
              " \"massaging person's head\",\n",
              " 'milking cow',\n",
              " 'mopping floor',\n",
              " 'motorcycling',\n",
              " 'moving furniture',\n",
              " 'mowing lawn',\n",
              " 'news anchoring',\n",
              " 'opening bottle',\n",
              " 'opening present',\n",
              " 'paragliding',\n",
              " 'parasailing',\n",
              " 'parkour',\n",
              " 'passing American football (in game)',\n",
              " 'passing American football (not in game)',\n",
              " 'peeling apples',\n",
              " 'peeling potatoes',\n",
              " 'petting animal (not cat)',\n",
              " 'petting cat',\n",
              " 'picking fruit',\n",
              " 'planting trees',\n",
              " 'plastering',\n",
              " 'playing accordion',\n",
              " 'playing badminton',\n",
              " 'playing bagpipes',\n",
              " 'playing basketball',\n",
              " 'playing bass guitar',\n",
              " 'playing cards',\n",
              " 'playing cello',\n",
              " 'playing chess',\n",
              " 'playing clarinet',\n",
              " 'playing controller',\n",
              " 'playing cricket',\n",
              " 'playing cymbals',\n",
              " 'playing didgeridoo',\n",
              " 'playing drums',\n",
              " 'playing flute',\n",
              " 'playing guitar',\n",
              " 'playing harmonica',\n",
              " 'playing harp',\n",
              " 'playing ice hockey',\n",
              " 'playing keyboard',\n",
              " 'playing kickball',\n",
              " 'playing monopoly',\n",
              " 'playing organ',\n",
              " 'playing paintball',\n",
              " 'playing piano',\n",
              " 'playing poker',\n",
              " 'playing recorder',\n",
              " 'playing saxophone',\n",
              " 'playing squash or racquetball',\n",
              " 'playing tennis',\n",
              " 'playing trombone',\n",
              " 'playing trumpet',\n",
              " 'playing ukulele',\n",
              " 'playing violin',\n",
              " 'playing volleyball',\n",
              " 'playing xylophone',\n",
              " 'pole vault',\n",
              " 'presenting weather forecast',\n",
              " 'pull ups',\n",
              " 'pumping fist',\n",
              " 'pumping gas',\n",
              " 'punching bag',\n",
              " 'punching person (boxing)',\n",
              " 'push up',\n",
              " 'pushing car',\n",
              " 'pushing cart',\n",
              " 'pushing wheelchair',\n",
              " 'reading book',\n",
              " 'reading newspaper',\n",
              " 'recording music',\n",
              " 'riding a bike',\n",
              " 'riding camel',\n",
              " 'riding elephant',\n",
              " 'riding mechanical bull',\n",
              " 'riding mountain bike',\n",
              " 'riding mule',\n",
              " 'riding or walking with horse',\n",
              " 'riding scooter',\n",
              " 'riding unicycle',\n",
              " 'ripping paper',\n",
              " 'robot dancing',\n",
              " 'rock climbing',\n",
              " 'rock scissors paper',\n",
              " 'roller skating',\n",
              " 'running on treadmill',\n",
              " 'sailing',\n",
              " 'salsa dancing',\n",
              " 'sanding floor',\n",
              " 'scrambling eggs',\n",
              " 'scuba diving',\n",
              " 'setting table',\n",
              " 'shaking hands',\n",
              " 'shaking head',\n",
              " 'sharpening knives',\n",
              " 'sharpening pencil',\n",
              " 'shaving head',\n",
              " 'shaving legs',\n",
              " 'shearing sheep',\n",
              " 'shining shoes',\n",
              " 'shooting basketball',\n",
              " 'shooting goal (soccer)',\n",
              " 'shot put',\n",
              " 'shoveling snow',\n",
              " 'shredding paper',\n",
              " 'shuffling cards',\n",
              " 'side kick',\n",
              " 'sign language interpreting',\n",
              " 'singing',\n",
              " 'situp',\n",
              " 'skateboarding',\n",
              " 'ski jumping',\n",
              " 'skiing (not slalom or crosscountry)',\n",
              " 'skiing crosscountry',\n",
              " 'skiing slalom',\n",
              " 'skipping rope',\n",
              " 'skydiving',\n",
              " 'slacklining',\n",
              " 'slapping',\n",
              " 'sled dog racing',\n",
              " 'smoking',\n",
              " 'smoking hookah',\n",
              " 'snatch weight lifting',\n",
              " 'sneezing',\n",
              " 'sniffing',\n",
              " 'snorkeling',\n",
              " 'snowboarding',\n",
              " 'snowkiting',\n",
              " 'snowmobiling',\n",
              " 'somersaulting',\n",
              " 'spinning poi',\n",
              " 'spray painting',\n",
              " 'spraying',\n",
              " 'springboard diving',\n",
              " 'squat',\n",
              " 'sticking tongue out',\n",
              " 'stomping grapes',\n",
              " 'stretching arm',\n",
              " 'stretching leg',\n",
              " 'strumming guitar',\n",
              " 'surfing crowd',\n",
              " 'surfing water',\n",
              " 'sweeping floor',\n",
              " 'swimming backstroke',\n",
              " 'swimming breast stroke',\n",
              " 'swimming butterfly stroke',\n",
              " 'swing dancing',\n",
              " 'swinging legs',\n",
              " 'swinging on something',\n",
              " 'sword fighting',\n",
              " 'tai chi',\n",
              " 'taking a shower',\n",
              " 'tango dancing',\n",
              " 'tap dancing',\n",
              " 'tapping guitar',\n",
              " 'tapping pen',\n",
              " 'tasting beer',\n",
              " 'tasting food',\n",
              " 'testifying',\n",
              " 'texting',\n",
              " 'throwing axe',\n",
              " 'throwing ball',\n",
              " 'throwing discus',\n",
              " 'tickling',\n",
              " 'tobogganing',\n",
              " 'tossing coin',\n",
              " 'tossing salad',\n",
              " 'training dog',\n",
              " 'trapezing',\n",
              " 'trimming or shaving beard',\n",
              " 'trimming trees',\n",
              " 'triple jump',\n",
              " 'tying bow tie',\n",
              " 'tying knot (not on a tie)',\n",
              " 'tying tie',\n",
              " 'unboxing',\n",
              " 'unloading truck',\n",
              " 'using computer',\n",
              " 'using remote controller (not gaming)',\n",
              " 'using segway',\n",
              " 'vault',\n",
              " 'waiting in line',\n",
              " 'walking the dog',\n",
              " 'washing dishes',\n",
              " 'washing feet',\n",
              " 'washing hair',\n",
              " 'washing hands',\n",
              " 'water skiing',\n",
              " 'water sliding',\n",
              " 'watering plants',\n",
              " 'waxing back',\n",
              " 'waxing chest',\n",
              " 'waxing eyebrows',\n",
              " 'waxing legs',\n",
              " 'weaving basket',\n",
              " 'welding',\n",
              " 'whistling',\n",
              " 'windsurfing',\n",
              " 'wrapping present',\n",
              " 'wrestling',\n",
              " 'writing',\n",
              " 'yawning',\n",
              " 'yoga',\n",
              " 'zumba']"
            ]
          },
          "metadata": {},
          "execution_count": 6
        }
      ]
    },
    {
      "cell_type": "code",
      "execution_count": 5,
      "metadata": {
        "id": "pIKTs-KneUfz",
        "outputId": "439f3abc-5056-47f0-aa64-639945e82f71",
        "colab": {
          "base_uri": "https://localhost:8080/"
        }
      },
      "outputs": [
        {
          "output_type": "stream",
          "name": "stdout",
          "text": [
            "Found 400 labels.\n"
          ]
        }
      ],
      "source": [
        "#@title Get the kinetics-400 labels\n",
        "# Get the kinetics-400 action labels from the GitHub repository.\n",
        "KINETICS_URL = \"https://raw.githubusercontent.com/deepmind/kinetics-i3d/master/data/label_map.txt\"\n",
        "with request.urlopen(KINETICS_URL) as obj:\n",
        "  labels = [line.decode(\"utf-8\").strip() for line in obj.readlines()]\n",
        "print(\"Found %d labels.\" % len(labels))"
      ]
    },
    {
      "cell_type": "code",
      "source": [],
      "metadata": {
        "id": "cohVNmLE52gD"
      },
      "execution_count": null,
      "outputs": []
    },
    {
      "cell_type": "markdown",
      "metadata": {
        "id": "GBvmjVICIp3W"
      },
      "source": [
        "# Using the UCF101 dataset"
      ]
    },
    {
      "cell_type": "code",
      "execution_count": 7,
      "metadata": {
        "id": "V-QcxdhLIfi2",
        "outputId": "08358128-0783-471c-c02e-fd69a55abe94",
        "colab": {
          "base_uri": "https://localhost:8080/",
          "height": 365
        }
      },
      "outputs": [
        {
          "output_type": "error",
          "ename": "HTTPError",
          "evalue": "HTTP Error 403: Forbidden",
          "traceback": [
            "\u001b[0;31m---------------------------------------------------------------------------\u001b[0m",
            "\u001b[0;31mHTTPError\u001b[0m                                 Traceback (most recent call last)",
            "\u001b[0;32m<ipython-input-7-67c5ef5d448a>\u001b[0m in \u001b[0;36m<cell line: 2>\u001b[0;34m()\u001b[0m\n\u001b[1;32m      1\u001b[0m \u001b[0;31m# Get the list of videos in the dataset.\u001b[0m\u001b[0;34m\u001b[0m\u001b[0;34m\u001b[0m\u001b[0m\n\u001b[0;32m----> 2\u001b[0;31m \u001b[0mucf_videos\u001b[0m \u001b[0;34m=\u001b[0m \u001b[0mlist_ucf_videos\u001b[0m\u001b[0;34m(\u001b[0m\u001b[0;34m)\u001b[0m\u001b[0;34m\u001b[0m\u001b[0;34m\u001b[0m\u001b[0m\n\u001b[0m\u001b[1;32m      3\u001b[0m \u001b[0;34m\u001b[0m\u001b[0m\n\u001b[1;32m      4\u001b[0m \u001b[0mcategories\u001b[0m \u001b[0;34m=\u001b[0m \u001b[0;34m{\u001b[0m\u001b[0;34m}\u001b[0m\u001b[0;34m\u001b[0m\u001b[0;34m\u001b[0m\u001b[0m\n\u001b[1;32m      5\u001b[0m \u001b[0;32mfor\u001b[0m \u001b[0mvideo\u001b[0m \u001b[0;32min\u001b[0m \u001b[0mucf_videos\u001b[0m\u001b[0;34m:\u001b[0m\u001b[0;34m\u001b[0m\u001b[0;34m\u001b[0m\u001b[0m\n",
            "\u001b[0;32m<ipython-input-4-7a8919619bae>\u001b[0m in \u001b[0;36mlist_ucf_videos\u001b[0;34m()\u001b[0m\n\u001b[1;32m     13\u001b[0m   \u001b[0;32mglobal\u001b[0m \u001b[0m_VIDEO_LIST\u001b[0m\u001b[0;34m\u001b[0m\u001b[0;34m\u001b[0m\u001b[0m\n\u001b[1;32m     14\u001b[0m   \u001b[0;32mif\u001b[0m \u001b[0;32mnot\u001b[0m \u001b[0m_VIDEO_LIST\u001b[0m\u001b[0;34m:\u001b[0m\u001b[0;34m\u001b[0m\u001b[0;34m\u001b[0m\u001b[0m\n\u001b[0;32m---> 15\u001b[0;31m     \u001b[0mindex\u001b[0m \u001b[0;34m=\u001b[0m \u001b[0mrequest\u001b[0m\u001b[0;34m.\u001b[0m\u001b[0murlopen\u001b[0m\u001b[0;34m(\u001b[0m\u001b[0mUCF_ROOT\u001b[0m\u001b[0;34m,\u001b[0m \u001b[0mcontext\u001b[0m\u001b[0;34m=\u001b[0m\u001b[0munverified_context\u001b[0m\u001b[0;34m)\u001b[0m\u001b[0;34m.\u001b[0m\u001b[0mread\u001b[0m\u001b[0;34m(\u001b[0m\u001b[0;34m)\u001b[0m\u001b[0;34m.\u001b[0m\u001b[0mdecode\u001b[0m\u001b[0;34m(\u001b[0m\u001b[0;34m\"utf-8\"\u001b[0m\u001b[0;34m)\u001b[0m\u001b[0;34m\u001b[0m\u001b[0;34m\u001b[0m\u001b[0m\n\u001b[0m\u001b[1;32m     16\u001b[0m     \u001b[0mvideos\u001b[0m \u001b[0;34m=\u001b[0m \u001b[0mre\u001b[0m\u001b[0;34m.\u001b[0m\u001b[0mfindall\u001b[0m\u001b[0;34m(\u001b[0m\u001b[0;34m\"(v_[\\w_]+\\.avi)\"\u001b[0m\u001b[0;34m,\u001b[0m \u001b[0mindex\u001b[0m\u001b[0;34m)\u001b[0m\u001b[0;34m\u001b[0m\u001b[0;34m\u001b[0m\u001b[0m\n\u001b[1;32m     17\u001b[0m     \u001b[0m_VIDEO_LIST\u001b[0m \u001b[0;34m=\u001b[0m \u001b[0msorted\u001b[0m\u001b[0;34m(\u001b[0m\u001b[0mset\u001b[0m\u001b[0;34m(\u001b[0m\u001b[0mvideos\u001b[0m\u001b[0;34m)\u001b[0m\u001b[0;34m)\u001b[0m\u001b[0;34m\u001b[0m\u001b[0;34m\u001b[0m\u001b[0m\n",
            "\u001b[0;32m/usr/lib/python3.10/urllib/request.py\u001b[0m in \u001b[0;36murlopen\u001b[0;34m(url, data, timeout, cafile, capath, cadefault, context)\u001b[0m\n\u001b[1;32m    214\u001b[0m     \u001b[0;32melse\u001b[0m\u001b[0;34m:\u001b[0m\u001b[0;34m\u001b[0m\u001b[0;34m\u001b[0m\u001b[0m\n\u001b[1;32m    215\u001b[0m         \u001b[0mopener\u001b[0m \u001b[0;34m=\u001b[0m \u001b[0m_opener\u001b[0m\u001b[0;34m\u001b[0m\u001b[0;34m\u001b[0m\u001b[0m\n\u001b[0;32m--> 216\u001b[0;31m     \u001b[0;32mreturn\u001b[0m \u001b[0mopener\u001b[0m\u001b[0;34m.\u001b[0m\u001b[0mopen\u001b[0m\u001b[0;34m(\u001b[0m\u001b[0murl\u001b[0m\u001b[0;34m,\u001b[0m \u001b[0mdata\u001b[0m\u001b[0;34m,\u001b[0m \u001b[0mtimeout\u001b[0m\u001b[0;34m)\u001b[0m\u001b[0;34m\u001b[0m\u001b[0;34m\u001b[0m\u001b[0m\n\u001b[0m\u001b[1;32m    217\u001b[0m \u001b[0;34m\u001b[0m\u001b[0m\n\u001b[1;32m    218\u001b[0m \u001b[0;32mdef\u001b[0m \u001b[0minstall_opener\u001b[0m\u001b[0;34m(\u001b[0m\u001b[0mopener\u001b[0m\u001b[0;34m)\u001b[0m\u001b[0;34m:\u001b[0m\u001b[0;34m\u001b[0m\u001b[0;34m\u001b[0m\u001b[0m\n",
            "\u001b[0;32m/usr/lib/python3.10/urllib/request.py\u001b[0m in \u001b[0;36mopen\u001b[0;34m(self, fullurl, data, timeout)\u001b[0m\n\u001b[1;32m    523\u001b[0m         \u001b[0;32mfor\u001b[0m \u001b[0mprocessor\u001b[0m \u001b[0;32min\u001b[0m \u001b[0mself\u001b[0m\u001b[0;34m.\u001b[0m\u001b[0mprocess_response\u001b[0m\u001b[0;34m.\u001b[0m\u001b[0mget\u001b[0m\u001b[0;34m(\u001b[0m\u001b[0mprotocol\u001b[0m\u001b[0;34m,\u001b[0m \u001b[0;34m[\u001b[0m\u001b[0;34m]\u001b[0m\u001b[0;34m)\u001b[0m\u001b[0;34m:\u001b[0m\u001b[0;34m\u001b[0m\u001b[0;34m\u001b[0m\u001b[0m\n\u001b[1;32m    524\u001b[0m             \u001b[0mmeth\u001b[0m \u001b[0;34m=\u001b[0m \u001b[0mgetattr\u001b[0m\u001b[0;34m(\u001b[0m\u001b[0mprocessor\u001b[0m\u001b[0;34m,\u001b[0m \u001b[0mmeth_name\u001b[0m\u001b[0;34m)\u001b[0m\u001b[0;34m\u001b[0m\u001b[0;34m\u001b[0m\u001b[0m\n\u001b[0;32m--> 525\u001b[0;31m             \u001b[0mresponse\u001b[0m \u001b[0;34m=\u001b[0m \u001b[0mmeth\u001b[0m\u001b[0;34m(\u001b[0m\u001b[0mreq\u001b[0m\u001b[0;34m,\u001b[0m \u001b[0mresponse\u001b[0m\u001b[0;34m)\u001b[0m\u001b[0;34m\u001b[0m\u001b[0;34m\u001b[0m\u001b[0m\n\u001b[0m\u001b[1;32m    526\u001b[0m \u001b[0;34m\u001b[0m\u001b[0m\n\u001b[1;32m    527\u001b[0m         \u001b[0;32mreturn\u001b[0m \u001b[0mresponse\u001b[0m\u001b[0;34m\u001b[0m\u001b[0;34m\u001b[0m\u001b[0m\n",
            "\u001b[0;32m/usr/lib/python3.10/urllib/request.py\u001b[0m in \u001b[0;36mhttp_response\u001b[0;34m(self, request, response)\u001b[0m\n\u001b[1;32m    632\u001b[0m         \u001b[0;31m# request was successfully received, understood, and accepted.\u001b[0m\u001b[0;34m\u001b[0m\u001b[0;34m\u001b[0m\u001b[0m\n\u001b[1;32m    633\u001b[0m         \u001b[0;32mif\u001b[0m \u001b[0;32mnot\u001b[0m \u001b[0;34m(\u001b[0m\u001b[0;36m200\u001b[0m \u001b[0;34m<=\u001b[0m \u001b[0mcode\u001b[0m \u001b[0;34m<\u001b[0m \u001b[0;36m300\u001b[0m\u001b[0;34m)\u001b[0m\u001b[0;34m:\u001b[0m\u001b[0;34m\u001b[0m\u001b[0;34m\u001b[0m\u001b[0m\n\u001b[0;32m--> 634\u001b[0;31m             response = self.parent.error(\n\u001b[0m\u001b[1;32m    635\u001b[0m                 'http', request, response, code, msg, hdrs)\n\u001b[1;32m    636\u001b[0m \u001b[0;34m\u001b[0m\u001b[0m\n",
            "\u001b[0;32m/usr/lib/python3.10/urllib/request.py\u001b[0m in \u001b[0;36merror\u001b[0;34m(self, proto, *args)\u001b[0m\n\u001b[1;32m    561\u001b[0m         \u001b[0;32mif\u001b[0m \u001b[0mhttp_err\u001b[0m\u001b[0;34m:\u001b[0m\u001b[0;34m\u001b[0m\u001b[0;34m\u001b[0m\u001b[0m\n\u001b[1;32m    562\u001b[0m             \u001b[0margs\u001b[0m \u001b[0;34m=\u001b[0m \u001b[0;34m(\u001b[0m\u001b[0mdict\u001b[0m\u001b[0;34m,\u001b[0m \u001b[0;34m'default'\u001b[0m\u001b[0;34m,\u001b[0m \u001b[0;34m'http_error_default'\u001b[0m\u001b[0;34m)\u001b[0m \u001b[0;34m+\u001b[0m \u001b[0morig_args\u001b[0m\u001b[0;34m\u001b[0m\u001b[0;34m\u001b[0m\u001b[0m\n\u001b[0;32m--> 563\u001b[0;31m             \u001b[0;32mreturn\u001b[0m \u001b[0mself\u001b[0m\u001b[0;34m.\u001b[0m\u001b[0m_call_chain\u001b[0m\u001b[0;34m(\u001b[0m\u001b[0;34m*\u001b[0m\u001b[0margs\u001b[0m\u001b[0;34m)\u001b[0m\u001b[0;34m\u001b[0m\u001b[0;34m\u001b[0m\u001b[0m\n\u001b[0m\u001b[1;32m    564\u001b[0m \u001b[0;34m\u001b[0m\u001b[0m\n\u001b[1;32m    565\u001b[0m \u001b[0;31m# XXX probably also want an abstract factory that knows when it makes\u001b[0m\u001b[0;34m\u001b[0m\u001b[0;34m\u001b[0m\u001b[0m\n",
            "\u001b[0;32m/usr/lib/python3.10/urllib/request.py\u001b[0m in \u001b[0;36m_call_chain\u001b[0;34m(self, chain, kind, meth_name, *args)\u001b[0m\n\u001b[1;32m    494\u001b[0m         \u001b[0;32mfor\u001b[0m \u001b[0mhandler\u001b[0m \u001b[0;32min\u001b[0m \u001b[0mhandlers\u001b[0m\u001b[0;34m:\u001b[0m\u001b[0;34m\u001b[0m\u001b[0;34m\u001b[0m\u001b[0m\n\u001b[1;32m    495\u001b[0m             \u001b[0mfunc\u001b[0m \u001b[0;34m=\u001b[0m \u001b[0mgetattr\u001b[0m\u001b[0;34m(\u001b[0m\u001b[0mhandler\u001b[0m\u001b[0;34m,\u001b[0m \u001b[0mmeth_name\u001b[0m\u001b[0;34m)\u001b[0m\u001b[0;34m\u001b[0m\u001b[0;34m\u001b[0m\u001b[0m\n\u001b[0;32m--> 496\u001b[0;31m             \u001b[0mresult\u001b[0m \u001b[0;34m=\u001b[0m \u001b[0mfunc\u001b[0m\u001b[0;34m(\u001b[0m\u001b[0;34m*\u001b[0m\u001b[0margs\u001b[0m\u001b[0;34m)\u001b[0m\u001b[0;34m\u001b[0m\u001b[0;34m\u001b[0m\u001b[0m\n\u001b[0m\u001b[1;32m    497\u001b[0m             \u001b[0;32mif\u001b[0m \u001b[0mresult\u001b[0m \u001b[0;32mis\u001b[0m \u001b[0;32mnot\u001b[0m \u001b[0;32mNone\u001b[0m\u001b[0;34m:\u001b[0m\u001b[0;34m\u001b[0m\u001b[0;34m\u001b[0m\u001b[0m\n\u001b[1;32m    498\u001b[0m                 \u001b[0;32mreturn\u001b[0m \u001b[0mresult\u001b[0m\u001b[0;34m\u001b[0m\u001b[0;34m\u001b[0m\u001b[0m\n",
            "\u001b[0;32m/usr/lib/python3.10/urllib/request.py\u001b[0m in \u001b[0;36mhttp_error_default\u001b[0;34m(self, req, fp, code, msg, hdrs)\u001b[0m\n\u001b[1;32m    641\u001b[0m \u001b[0;32mclass\u001b[0m \u001b[0mHTTPDefaultErrorHandler\u001b[0m\u001b[0;34m(\u001b[0m\u001b[0mBaseHandler\u001b[0m\u001b[0;34m)\u001b[0m\u001b[0;34m:\u001b[0m\u001b[0;34m\u001b[0m\u001b[0;34m\u001b[0m\u001b[0m\n\u001b[1;32m    642\u001b[0m     \u001b[0;32mdef\u001b[0m \u001b[0mhttp_error_default\u001b[0m\u001b[0;34m(\u001b[0m\u001b[0mself\u001b[0m\u001b[0;34m,\u001b[0m \u001b[0mreq\u001b[0m\u001b[0;34m,\u001b[0m \u001b[0mfp\u001b[0m\u001b[0;34m,\u001b[0m \u001b[0mcode\u001b[0m\u001b[0;34m,\u001b[0m \u001b[0mmsg\u001b[0m\u001b[0;34m,\u001b[0m \u001b[0mhdrs\u001b[0m\u001b[0;34m)\u001b[0m\u001b[0;34m:\u001b[0m\u001b[0;34m\u001b[0m\u001b[0;34m\u001b[0m\u001b[0m\n\u001b[0;32m--> 643\u001b[0;31m         \u001b[0;32mraise\u001b[0m \u001b[0mHTTPError\u001b[0m\u001b[0;34m(\u001b[0m\u001b[0mreq\u001b[0m\u001b[0;34m.\u001b[0m\u001b[0mfull_url\u001b[0m\u001b[0;34m,\u001b[0m \u001b[0mcode\u001b[0m\u001b[0;34m,\u001b[0m \u001b[0mmsg\u001b[0m\u001b[0;34m,\u001b[0m \u001b[0mhdrs\u001b[0m\u001b[0;34m,\u001b[0m \u001b[0mfp\u001b[0m\u001b[0;34m)\u001b[0m\u001b[0;34m\u001b[0m\u001b[0;34m\u001b[0m\u001b[0m\n\u001b[0m\u001b[1;32m    644\u001b[0m \u001b[0;34m\u001b[0m\u001b[0m\n\u001b[1;32m    645\u001b[0m \u001b[0;32mclass\u001b[0m \u001b[0mHTTPRedirectHandler\u001b[0m\u001b[0;34m(\u001b[0m\u001b[0mBaseHandler\u001b[0m\u001b[0;34m)\u001b[0m\u001b[0;34m:\u001b[0m\u001b[0;34m\u001b[0m\u001b[0;34m\u001b[0m\u001b[0m\n",
            "\u001b[0;31mHTTPError\u001b[0m: HTTP Error 403: Forbidden"
          ]
        }
      ],
      "source": [
        "# Get the list of videos in the dataset.\n",
        "ucf_videos = list_ucf_videos()\n",
        "\n",
        "categories = {}\n",
        "for video in ucf_videos:\n",
        "  category = video[2:-12]\n",
        "  if category not in categories:\n",
        "    categories[category] = []\n",
        "  categories[category].append(video)\n",
        "print(\"Found %d videos in %d categories.\" % (len(ucf_videos), len(categories)))\n",
        "\n",
        "for category, sequences in categories.items():\n",
        "  summary = \", \".join(sequences[:2])\n",
        "  print(\"%-20s %4d videos (%s, ...)\" % (category, len(sequences), summary))\n"
      ]
    },
    {
      "cell_type": "code",
      "source": [
        "from google.colab import drive\n",
        "drive.mount('/content/drive')"
      ],
      "metadata": {
        "id": "OjanRaP46Fio",
        "outputId": "fd302bee-2953-4d1e-d17c-0e8bcb779af0",
        "colab": {
          "base_uri": "https://localhost:8080/"
        }
      },
      "execution_count": 8,
      "outputs": [
        {
          "output_type": "stream",
          "name": "stdout",
          "text": [
            "Mounted at /content/drive\n"
          ]
        }
      ]
    },
    {
      "cell_type": "code",
      "execution_count": 10,
      "metadata": {
        "id": "c0ZvVDruN2nU"
      },
      "outputs": [],
      "source": [
        "# Get a sample cricket video.\n",
        "# video_path = fetch_ucf_video(\"/content/drive/MyDrive/images/clip.mp4\")\n",
        "sample_video = load_video('/content/drive/MyDrive/images/clip.mp4')"
      ]
    },
    {
      "cell_type": "code",
      "execution_count": 11,
      "metadata": {
        "id": "hASLA90YFPTO",
        "outputId": "5368682e-80d6-499e-d72f-09e3e5d1fa91",
        "colab": {
          "base_uri": "https://localhost:8080/"
        }
      },
      "outputs": [
        {
          "output_type": "execute_result",
          "data": {
            "text/plain": [
              "(1799, 224, 224, 3)"
            ]
          },
          "metadata": {},
          "execution_count": 11
        }
      ],
      "source": [
        "sample_video.shape"
      ]
    },
    {
      "cell_type": "code",
      "execution_count": 12,
      "metadata": {
        "id": "POf5XgffvXlD"
      },
      "outputs": [],
      "source": [
        "i3d = hub.load(\"https://tfhub.dev/deepmind/i3d-kinetics-400/1\").signatures['default']"
      ]
    },
    {
      "cell_type": "markdown",
      "metadata": {
        "id": "mDXgaOD1zhMP"
      },
      "source": [
        "Run the id3 model and print the top-5 action predictions."
      ]
    },
    {
      "cell_type": "code",
      "execution_count": 13,
      "metadata": {
        "id": "3mTbqA5JGYUx"
      },
      "outputs": [],
      "source": [
        "def predict(sample_video):\n",
        "  # Add a batch axis to the sample video.\n",
        "  model_input = tf.constant(sample_video, dtype=tf.float32)[tf.newaxis, ...]\n",
        "\n",
        "  logits = i3d(model_input)['default'][0]\n",
        "  probabilities = tf.nn.softmax(logits)\n",
        "\n",
        "  print(\"Top 5 actions:\")\n",
        "  for i in np.argsort(probabilities)[::-1][:5]:\n",
        "    print(f\"  {labels[i]:22}: {probabilities[i] * 100:5.2f}%\")"
      ]
    },
    {
      "cell_type": "code",
      "execution_count": 14,
      "metadata": {
        "id": "ykaXQcGRvK4E",
        "outputId": "80d25df4-bcf0-4631-97ff-1ab0a81c62cf",
        "colab": {
          "base_uri": "https://localhost:8080/"
        }
      },
      "outputs": [
        {
          "output_type": "stream",
          "name": "stdout",
          "text": [
            "Top 5 actions:\n",
            "  marching              : 49.90%\n",
            "  passing American football (in game): 14.65%\n",
            "  javelin throw         :  5.94%\n",
            "  catching or throwing frisbee:  4.28%\n",
            "  throwing discus       :  3.80%\n"
          ]
        }
      ],
      "source": [
        "predict(sample_video)"
      ]
    },
    {
      "cell_type": "markdown",
      "metadata": {
        "id": "PHsq0lHXCsD4"
      },
      "source": [
        "Now try a new video, from: https://commons.wikimedia.org/wiki/Category:Videos_of_sports\n",
        "\n",
        "How about [this video](https://commons.wikimedia.org/wiki/File:End_of_a_jam.ogv) by Patrick Gillett:"
      ]
    },
    {
      "cell_type": "code",
      "execution_count": null,
      "metadata": {
        "id": "p-mZ9fFPCoNq"
      },
      "outputs": [],
      "source": [
        "!curl -O https://upload.wikimedia.org/wikipedia/commons/8/86/End_of_a_jam.ogv"
      ]
    },
    {
      "cell_type": "code",
      "execution_count": null,
      "metadata": {
        "id": "lpLmE8rjEbAF"
      },
      "outputs": [],
      "source": [
        "video_path = \"End_of_a_jam.ogv\""
      ]
    },
    {
      "cell_type": "code",
      "execution_count": null,
      "metadata": {
        "id": "CHZJ9qTLErhV"
      },
      "outputs": [],
      "source": [
        "sample_video = load_video(video_path)[:100]\n",
        "sample_video.shape"
      ]
    },
    {
      "cell_type": "code",
      "execution_count": null,
      "metadata": {
        "id": "2ZNLkEZ9Er-c"
      },
      "outputs": [],
      "source": [
        "to_gif(sample_video)"
      ]
    },
    {
      "cell_type": "code",
      "execution_count": null,
      "metadata": {
        "id": "yskHIRbxEtjS"
      },
      "outputs": [],
      "source": [
        "predict(sample_video)"
      ]
    }
  ],
  "metadata": {
    "accelerator": "GPU",
    "colab": {
      "collapsed_sections": [
        "x8Q7Un821X1A"
      ],
      "name": "action_recognition_with_tf_hub.ipynb",
      "provenance": []
    },
    "kernelspec": {
      "display_name": "Python 3",
      "name": "python3"
    }
  },
  "nbformat": 4,
  "nbformat_minor": 0
}